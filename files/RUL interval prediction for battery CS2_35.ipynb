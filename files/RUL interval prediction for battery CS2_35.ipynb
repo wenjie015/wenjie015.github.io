{
 "cells": [
  {
   "cell_type": "code",
   "execution_count": 1,
   "id": "5495e01a",
   "metadata": {},
   "outputs": [],
   "source": [
    "import math\n",
    "import numpy as np\n",
    "import pandas as pd\n",
    "%matplotlib inline\n",
    "import matplotlib.pyplot as plt"
   ]
  },
  {
   "cell_type": "code",
   "execution_count": 4,
   "id": "daa6c69c",
   "metadata": {},
   "outputs": [
    {
     "name": "stdout",
     "output_type": "stream",
     "text": [
      "56\n",
      "88\n"
     ]
    }
   ],
   "source": [
    "#读取数据\n",
    "df1 = pd.read_excel('D:\\CACLE\\cs2_35.xlsx')\n",
    "ftr=['cycle','capacity','SoH','CCCT'] \n",
    "df11=df1[ftr]\n",
    "data_total=df1[(df11['cycle']>=1)]\n",
    "data_capacity = data_total.iloc[:,1:2].values\n",
    "data_pre_Up = pd.read_csv(\"D:\\\\dada\\\\拼接实验\\\\数据重构数据\\\\马里兰\\\\35示例实验\\\\实验结果\\\\predict_35_Up降序.csv\") #预测上限\n",
    "data_pre_Up = data_pre_Up['mohu_35_Up']\n",
    "data_pre_Low = pd.read_csv(\"D:\\\\dada\\\\拼接实验\\\\数据重构数据\\\\马里兰\\\\35示例实验\\\\实验结果\\\\predict_35_Low降序.csv\") #预测下限\n",
    "data_pre_Low = data_pre_Low['mohu_35_Low']\n",
    "\n",
    "ww = pd.read_excel(\"D:\\dada\\拼接实验\\马里兰窗口长度.xlsx\") #每个窗口的具体长度\n",
    "ww = ww['w_35'] \n",
    "\n",
    "print(len(data_pre_Low))\n",
    "print(len(ww))"
   ]
  },
  {
   "cell_type": "code",
   "execution_count": 5,
   "id": "36c6e652",
   "metadata": {},
   "outputs": [
    {
     "data": {
      "image/png": "",
      "text/plain": [
       "<Figure size 1000x700 with 1 Axes>"
      ]
     },
     "metadata": {},
     "output_type": "display_data"
    }
   ],
   "source": [
    "#画出区间预测效果图\n",
    "size_train=33 #颗粒预测起点\n",
    "shjiujok = sum(ww[:size_train-1])#预测真实值的起点\n",
    "ww_pre = ww[size_train-1:] #预测的颗粒\n",
    "ww_pre = np.array(ww_pre)\n",
    "fsjh = []#粒化后的值在真实值上位置的表示\n",
    "leijis = 0\n",
    "for i in range(len(ww)):\n",
    "    if(ww[i]%2==0):\n",
    "        fsjh.append(int(ww[i]/2+leijis))\n",
    "        leijis=leijis+ww[i]\n",
    "    else:\n",
    "        fsjh.append(int((ww[i]+1)/2+leijis))\n",
    "        leijis=leijis+ww[i]\n",
    "#找出预测部分的点的对应位置\n",
    "fsjh = fsjh[size_train-1:]\n",
    "\n",
    "fig12 = plt.figure(figsize=(10,7))\n",
    "plt.plot(range(0,len(data_capacity)),data_capacity,label = 'real data')\n",
    "plt.plot(fsjh,data_pre_Low,label = 'predict data_LOW',color='r')\n",
    "plt.plot(fsjh,data_pre_Up,label = 'predict data_UP',color='b')\n",
    "plt.title('TIEDVD')\n",
    "plt.xlabel('cycle index')\n",
    "plt.ylabel('health degree')\n",
    "plt.legend()\n",
    "plt.show()"
   ]
  },
  {
   "cell_type": "code",
   "execution_count": 6,
   "id": "9525e397",
   "metadata": {},
   "outputs": [
    {
     "name": "stdout",
     "output_type": "stream",
     "text": [
      "0.02152491892857144 30.57944092428358 49.39200680272109\n"
     ]
    }
   ],
   "source": [
    "#评价指标\n",
    "#特异性预测区间的宽度\n",
    "a = data_pre_Low\n",
    "b = data_pre_Up\n",
    "V =np.array(b-a)\n",
    "V_average = sum(V)/len(V)\n",
    "\n",
    "#覆盖范围\n",
    "leiji =shjiujok-1\n",
    "Q =[] #覆盖范围指标\n",
    "for i in range(0,len(data_pre_Low)):\n",
    "    q = 0\n",
    "    for j in range(0,ww_pre[i]):\n",
    "        leiji = leiji+1\n",
    "        if (a[i]<=data_capacity[leiji]<=b[i]):\n",
    "            f=1\n",
    "        else:\n",
    "            f=0\n",
    "        q1 = 100*f/(ww_pre[i])\n",
    "        q = q+q1\n",
    "    Q.append(q)\n",
    "\n",
    "#把Q%变为Q\n",
    "Q_100 = []\n",
    "for i in range(0,len(Q)):\n",
    "    SHG = Q[i]/10000\n",
    "    Q_100.append(SHG)\n",
    "\n",
    "# #综合指标P \n",
    "P = (100*sum(Q_100/V))/len(V)      \n",
    "Q_average = sum(Q)/len(Q)\n",
    "\n",
    "print(V_average,P,Q_average)"
   ]
  },
  {
   "cell_type": "code",
   "execution_count": 7,
   "id": "7ed1a6fb",
   "metadata": {},
   "outputs": [
    {
     "name": "stdout",
     "output_type": "stream",
     "text": [
      "V_average: 0.02150\n",
      "Q_average: 49.39200\n",
      "P: 30.57940\n"
     ]
    }
   ],
   "source": [
    "V_average =round(V_average,4)\n",
    "Q_average =round(Q_average,4)\n",
    "P =round(P,4)\n",
    "print('V_average: %.5f' % V_average)\n",
    "print('Q_average: %.5f' % Q_average)\n",
    "print('P: %.5f' % P)"
   ]
  },
  {
   "cell_type": "code",
   "execution_count": null,
   "id": "b39a380c",
   "metadata": {},
   "outputs": [],
   "source": []
  }
 ],
 "metadata": {
  "kernelspec": {
   "display_name": "L",
   "language": "python",
   "name": "l"
  },
  "language_info": {
   "codemirror_mode": {
    "name": "ipython",
    "version": 3
   },
   "file_extension": ".py",
   "mimetype": "text/x-python",
   "name": "python",
   "nbconvert_exporter": "python",
   "pygments_lexer": "ipython3",
   "version": "3.10.9"
  }
 },
 "nbformat": 4,
 "nbformat_minor": 5
}
